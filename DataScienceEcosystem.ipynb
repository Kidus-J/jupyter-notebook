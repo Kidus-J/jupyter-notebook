{
 "cells": [
  {
   "cell_type": "markdown",
   "id": "6d43bedf-d7b1-4f49-8173-33d9df79ed01",
   "metadata": {},
   "source": [
    "# Data Science Tools and Ecosystem"
   ]
  },
  {
   "cell_type": "markdown",
   "id": "ccf6b0be-0859-43fd-910f-5665765b107a",
   "metadata": {},
   "source": [
    "In this notebook, Data Sience Ecosystems are summerized."
   ]
  },
  {
   "cell_type": "markdown",
   "id": "3b699a26-4bd3-478e-8428-aa92d297d91b",
   "metadata": {},
   "source": [
    "1.Python\n",
    "2.R\n",
    "3.SQL\n",
    "4.C++\n",
    "5.JAVA  etc....."
   ]
  },
  {
   "cell_type": "markdown",
   "id": "c54793d0-22d7-49d2-b9b7-c0c4683cb6bc",
   "metadata": {},
   "source": [
    "1.Tensorflow\n",
    "2.Numpy\n",
    "3.Pandas\n",
    "4.Matplotlib\n",
    "5.Keras\n",
    "6.Scikit-Learn\n",
    "7.Scipy\n",
    "8.PyTorch"
   ]
  },
  {
   "cell_type": "markdown",
   "id": "3a5cb7e5-b2c9-4848-84da-83357a00a7b3",
   "metadata": {},
   "source": [
    "|Data Science Tools|\n",
    "|---|\n",
    "|SAAS|\n",
    "|Apache Hadoop|\n",
    "|Tensorflo|\n"
   ]
  },
  {
   "cell_type": "markdown",
   "id": "28114e20-7c6f-4c1e-b501-a240172fb829",
   "metadata": {},
   "source": [
    "### Below are few examples of evaluating arithmetic expressions in python"
   ]
  },
  {
   "cell_type": "code",
   "execution_count": 1,
   "id": "b67981a9-73d7-4a12-bdf9-0f80f96fa77e",
   "metadata": {
    "tags": []
   },
   "outputs": [
    {
     "data": {
      "text/plain": [
       "32"
      ]
     },
     "execution_count": 1,
     "metadata": {},
     "output_type": "execute_result"
    }
   ],
   "source": [
    "#this is a common arthmetic example to multiply and integers\n",
    "(5*5)+7"
   ]
  },
  {
   "cell_type": "code",
   "execution_count": 2,
   "id": "247ddbe7-8551-4771-9fb1-06b59df88659",
   "metadata": {
    "tags": []
   },
   "outputs": [
    {
     "data": {
      "text/plain": [
       "3.3333333333333335"
      ]
     },
     "execution_count": 2,
     "metadata": {},
     "output_type": "execute_result"
    }
   ],
   "source": [
    "#this will convert 200 minutes to hours by dividing by 60\n",
    "200/60"
   ]
  },
  {
   "cell_type": "markdown",
   "id": "c7a32a8e-5c2f-4f04-9a7c-9b1e8685c573",
   "metadata": {
    "tags": []
   },
   "source": [
    "_Objective_\n",
    "* List popular Languages for Data Sceince\n",
    "* List popular libraries for Data Science \n",
    "* List well known Data Science tool\n",
    "* How to provide comments in the cell"
   ]
  },
  {
   "cell_type": "markdown",
   "id": "2c4b0da0-1025-4e08-b16f-d4fa162e469f",
   "metadata": {},
   "source": [
    "## Author\n",
    "Kidus Yoseph"
   ]
  }
 ],
 "metadata": {
  "kernelspec": {
   "display_name": "Python 3 (ipykernel)",
   "language": "python",
   "name": "python3"
  },
  "language_info": {
   "codemirror_mode": {
    "name": "ipython",
    "version": 3
   },
   "file_extension": ".py",
   "mimetype": "text/x-python",
   "name": "python",
   "nbconvert_exporter": "python",
   "pygments_lexer": "ipython3",
   "version": "3.11.5"
  }
 },
 "nbformat": 4,
 "nbformat_minor": 5
}
